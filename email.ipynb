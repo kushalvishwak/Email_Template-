{
 "cells": [
  {
   "cell_type": "code",
   "execution_count": 1,
   "metadata": {},
   "outputs": [],
   "source": [
    "import pandas as pd"
   ]
  },
  {
   "cell_type": "code",
   "execution_count": 12,
   "metadata": {},
   "outputs": [
    {
     "name": "stdout",
     "output_type": "stream",
     "text": [
      "C:\\Users\\Administrator\\Desktop\\internship\n"
     ]
    }
   ],
   "source": [
    "cd C:\\Users\\Administrator\\Desktop\\internship"
   ]
  },
  {
   "cell_type": "code",
   "execution_count": 14,
   "metadata": {},
   "outputs": [],
   "source": [
    "email = pd.read_csv(\"sample_email.csv\",encoding='latin1')"
   ]
  },
  {
   "cell_type": "code",
   "execution_count": 16,
   "metadata": {},
   "outputs": [
    {
     "data": {
      "text/html": [
       "<div>\n",
       "<style scoped>\n",
       "    .dataframe tbody tr th:only-of-type {\n",
       "        vertical-align: middle;\n",
       "    }\n",
       "\n",
       "    .dataframe tbody tr th {\n",
       "        vertical-align: top;\n",
       "    }\n",
       "\n",
       "    .dataframe thead th {\n",
       "        text-align: right;\n",
       "    }\n",
       "</style>\n",
       "<table border=\"1\" class=\"dataframe\">\n",
       "  <thead>\n",
       "    <tr style=\"text-align: right;\">\n",
       "      <th></th>\n",
       "      <th>first_name</th>\n",
       "      <th>last_name</th>\n",
       "      <th>company_name</th>\n",
       "      <th>address</th>\n",
       "      <th>city</th>\n",
       "      <th>county</th>\n",
       "      <th>state</th>\n",
       "      <th>zip</th>\n",
       "      <th>phone1</th>\n",
       "      <th>phone</th>\n",
       "      <th>email</th>\n",
       "      <th>subject</th>\n",
       "      <th>Email Boby</th>\n",
       "    </tr>\n",
       "  </thead>\n",
       "  <tbody>\n",
       "    <tr>\n",
       "      <th>0</th>\n",
       "      <td>James</td>\n",
       "      <td>Butt</td>\n",
       "      <td>Benton, John B Jr</td>\n",
       "      <td>6649 N Blue Gum St</td>\n",
       "      <td>New Orleans</td>\n",
       "      <td>Orleans</td>\n",
       "      <td>LA</td>\n",
       "      <td>70116</td>\n",
       "      <td>504-621-8927</td>\n",
       "      <td>504-845-1427</td>\n",
       "      <td>jbutt@luminate.ai</td>\n",
       "      <td>When EMVX creation comes the message \"The crea...</td>\n",
       "      <td>I have a nearly unreadable font in my Warehous...</td>\n",
       "    </tr>\n",
       "    <tr>\n",
       "      <th>1</th>\n",
       "      <td>Josephine</td>\n",
       "      <td>Darakjy</td>\n",
       "      <td>Chanay, Jeffrey A Esq</td>\n",
       "      <td>4 B Blue Ridge Blvd</td>\n",
       "      <td>Brighton</td>\n",
       "      <td>Livingston</td>\n",
       "      <td>MI</td>\n",
       "      <td>48116</td>\n",
       "      <td>810-292-9388</td>\n",
       "      <td>810-374-9840</td>\n",
       "      <td>josephine_darakjy@luminate.ai</td>\n",
       "      <td>It falters when processing highly segmented p...</td>\n",
       "      <td>On Saturday the version WAREHOUSE Sales firstc...</td>\n",
       "    </tr>\n",
       "    <tr>\n",
       "      <th>2</th>\n",
       "      <td>Art</td>\n",
       "      <td>Venere</td>\n",
       "      <td>Chemel, James L Cpa</td>\n",
       "      <td>8 W Cerritos Ave #54</td>\n",
       "      <td>Bridgeport</td>\n",
       "      <td>Gloucester</td>\n",
       "      <td>NJ</td>\n",
       "      <td>8014</td>\n",
       "      <td>856-636-8749</td>\n",
       "      <td>856-264-4130</td>\n",
       "      <td>art@luminate.ai</td>\n",
       "      <td>Cwvemx files falter in Sales firstclass 20</td>\n",
       "      <td>In export mode, the font in the small preview ...</td>\n",
       "    </tr>\n",
       "    <tr>\n",
       "      <th>3</th>\n",
       "      <td>Lenna</td>\n",
       "      <td>Paprocki</td>\n",
       "      <td>Feltz Printing Service</td>\n",
       "      <td>639 Main St</td>\n",
       "      <td>Anchorage</td>\n",
       "      <td>Anchorage</td>\n",
       "      <td>AK</td>\n",
       "      <td>99501</td>\n",
       "      <td>907-385-4412</td>\n",
       "      <td>907-921-2010</td>\n",
       "      <td>lpaprocki@luminate.ai</td>\n",
       "      <td>When creating EM / EMVX with Windows 7, it ma...</td>\n",
       "      <td>On my specificationsheet, the text blocks are ...</td>\n",
       "    </tr>\n",
       "    <tr>\n",
       "      <th>4</th>\n",
       "      <td>Donette</td>\n",
       "      <td>Foller</td>\n",
       "      <td>Printing Dimensions</td>\n",
       "      <td>34 Center St</td>\n",
       "      <td>Hamilton</td>\n",
       "      <td>Butler</td>\n",
       "      <td>OH</td>\n",
       "      <td>45011</td>\n",
       "      <td>513-570-1893</td>\n",
       "      <td>513-549-4561</td>\n",
       "      <td>donette.foller@luminate.ai</td>\n",
       "      <td>Drivers for the USB Process Manager could not...</td>\n",
       "      <td>Since your update come strange bubbles on my s...</td>\n",
       "    </tr>\n",
       "  </tbody>\n",
       "</table>\n",
       "</div>"
      ],
      "text/plain": [
       "  first_name last_name            company_name               address  \\\n",
       "0      James      Butt       Benton, John B Jr    6649 N Blue Gum St   \n",
       "1  Josephine   Darakjy   Chanay, Jeffrey A Esq   4 B Blue Ridge Blvd   \n",
       "2        Art    Venere     Chemel, James L Cpa  8 W Cerritos Ave #54   \n",
       "3      Lenna  Paprocki  Feltz Printing Service           639 Main St   \n",
       "4    Donette    Foller     Printing Dimensions          34 Center St   \n",
       "\n",
       "          city      county state    zip        phone1         phone  \\\n",
       "0  New Orleans     Orleans    LA  70116  504-621-8927  504-845-1427   \n",
       "1     Brighton  Livingston    MI  48116  810-292-9388  810-374-9840   \n",
       "2   Bridgeport  Gloucester    NJ   8014  856-636-8749  856-264-4130   \n",
       "3    Anchorage   Anchorage    AK  99501  907-385-4412  907-921-2010   \n",
       "4     Hamilton      Butler    OH  45011  513-570-1893  513-549-4561   \n",
       "\n",
       "                           email  \\\n",
       "0              jbutt@luminate.ai   \n",
       "1  josephine_darakjy@luminate.ai   \n",
       "2                art@luminate.ai   \n",
       "3          lpaprocki@luminate.ai   \n",
       "4     donette.foller@luminate.ai   \n",
       "\n",
       "                                             subject  \\\n",
       "0  When EMVX creation comes the message \"The crea...   \n",
       "1   It falters when processing highly segmented p...   \n",
       "2         Cwvemx files falter in Sales firstclass 20   \n",
       "3   When creating EM / EMVX with Windows 7, it ma...   \n",
       "4   Drivers for the USB Process Manager could not...   \n",
       "\n",
       "                                          Email Boby  \n",
       "0  I have a nearly unreadable font in my Warehous...  \n",
       "1  On Saturday the version WAREHOUSE Sales firstc...  \n",
       "2  In export mode, the font in the small preview ...  \n",
       "3  On my specificationsheet, the text blocks are ...  \n",
       "4  Since your update come strange bubbles on my s...  "
      ]
     },
     "execution_count": 16,
     "metadata": {},
     "output_type": "execute_result"
    }
   ],
   "source": [
    "email.head()"
   ]
  },
  {
   "cell_type": "code",
   "execution_count": 18,
   "metadata": {},
   "outputs": [
    {
     "data": {
      "text/plain": [
       "first_name      0\n",
       "last_name       0\n",
       "company_name    0\n",
       "address         0\n",
       "city            0\n",
       "county          0\n",
       "state           0\n",
       "zip             0\n",
       "phone1          0\n",
       "phone           0\n",
       "email           0\n",
       "subject         0\n",
       "Email Boby      0\n",
       "dtype: int64"
      ]
     },
     "execution_count": 18,
     "metadata": {},
     "output_type": "execute_result"
    }
   ],
   "source": [
    "email.isnull().sum()"
   ]
  },
  {
   "cell_type": "markdown",
   "metadata": {},
   "source": [
    "## 1.Fetch the Detail like name, email, email Body, email subject and create email template for each individuals. "
   ]
  },
  {
   "cell_type": "markdown",
   "metadata": {},
   "source": [
    "- Email Template Sample\n",
    "  - first_name: James,last_name: Butt, company_name: Benton, John B Jr,\taddress:6649 N Blue Gum St,city: New Orleans\n",
    "  - county: Orleans,state: LA,zip: 70116,phone1: 504-621-8927,phone: 504-845-1427,email: jbutt@luminate.ai,\n",
    "  - subject: When EMVX creation comes the message \"The creation was canceled for hardware reasons\"\n",
    "  - ,Email Boby: I have a nearly unreadable font in my Warehouse Software under Export-File Options for 2 days.\n",
    "    Please do contact me at 504-621-8927.  "
   ]
  },
  {
   "cell_type": "markdown",
   "metadata": {},
   "source": [
    "## 2. Check and fetch email address from the email body section if any present and store it in another CSV. \n",
    "## 3. Check and fetch mail number from the email body section if any present and store it in another CSV.\n"
   ]
  },
  {
   "cell_type": "code",
   "execution_count": null,
   "metadata": {},
   "outputs": [],
   "source": []
  }
 ],
 "metadata": {
  "kernelspec": {
   "display_name": "Python 3",
   "language": "python",
   "name": "python3"
  },
  "language_info": {
   "codemirror_mode": {
    "name": "ipython",
    "version": 3
   },
   "file_extension": ".py",
   "mimetype": "text/x-python",
   "name": "python",
   "nbconvert_exporter": "python",
   "pygments_lexer": "ipython3",
   "version": "3.7.3"
  }
 },
 "nbformat": 4,
 "nbformat_minor": 2
}
